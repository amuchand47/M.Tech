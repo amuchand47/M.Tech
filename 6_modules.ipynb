{
  "nbformat": 4,
  "nbformat_minor": 0,
  "metadata": {
    "colab": {
      "name": "Copy of 6_modules.ipynb",
      "version": "0.3.2",
      "provenance": [],
      "include_colab_link": true
    },
    "kernelspec": {
      "display_name": "Python 3",
      "language": "python",
      "name": "python3"
    }
  },
  "cells": [
    {
      "cell_type": "markdown",
      "metadata": {
        "id": "view-in-github",
        "colab_type": "text"
      },
      "source": [
        "<a href=\"https://colab.research.google.com/github/piccadimn/M.Tech/blob/master/6_modules.ipynb\" target=\"_parent\"><img src=\"https://colab.research.google.com/assets/colab-badge.svg\" alt=\"Open In Colab\"/></a>"
      ]
    },
    {
      "metadata": {
        "id": "jEtk0M-L3R9F",
        "colab_type": "text"
      },
      "cell_type": "markdown",
      "source": [
        "# Modules"
      ]
    },
    {
      "metadata": {
        "id": "NAp2ja6o3R9Z",
        "colab_type": "text"
      },
      "cell_type": "markdown",
      "source": [
        "Modules refer to a file containing Python statements and definitions.\n",
        "\n",
        "A file containing Python code, for e.g.: abc.py, is called a module and its module name would be \"abc\"."
      ]
    },
    {
      "metadata": {
        "id": "A5E7DhZc3R9m",
        "colab_type": "text"
      },
      "cell_type": "markdown",
      "source": [
        "We use modules to break down large programs into small manageable and organized files. Furthermore, modules provide reusability of code.\n",
        "\n",
        "We can define our most used functions in a module and import it, instead of copying their definitions into different programs."
      ]
    },
    {
      "metadata": {
        "id": "iXU0hmwR3R9_",
        "colab_type": "text"
      },
      "cell_type": "markdown",
      "source": [
        "# How to import a module?"
      ]
    },
    {
      "metadata": {
        "id": "7LQ_b77w3R-I",
        "colab_type": "text"
      },
      "cell_type": "markdown",
      "source": [
        "We use the import keyword to do this."
      ]
    },
    {
      "metadata": {
        "id": "WtoyGvTU3R-T",
        "colab_type": "code",
        "colab": {}
      },
      "cell_type": "code",
      "source": [
        "import example #imported example module\n"
      ],
      "execution_count": 0,
      "outputs": []
    },
    {
      "metadata": {
        "id": "9piSC17i3R-0",
        "colab_type": "text"
      },
      "cell_type": "markdown",
      "source": [
        "Using the module name we can access the function using dot (.) operation."
      ]
    },
    {
      "metadata": {
        "id": "nFsmQ9-03R_P",
        "colab_type": "code",
        "outputId": "2fbb1121-b8ff-48aa-9a1c-ffd29a09a5f3",
        "colab": {}
      },
      "cell_type": "code",
      "source": [
        "example.add(10, 20)\n"
      ],
      "execution_count": 0,
      "outputs": [
        {
          "output_type": "execute_result",
          "data": {
            "text/plain": [
              "30"
            ]
          },
          "metadata": {
            "tags": []
          },
          "execution_count": 3
        }
      ]
    },
    {
      "metadata": {
        "id": "XHC4kmDF3R_2",
        "colab_type": "text"
      },
      "cell_type": "markdown",
      "source": [
        "Python has a lot of standard modules available.\n",
        "\n",
        "https://docs.python.org/3/py-modindex.html "
      ]
    },
    {
      "metadata": {
        "id": "GtG2nI3F3SAC",
        "colab_type": "text"
      },
      "cell_type": "markdown",
      "source": [
        "# Examples:"
      ]
    },
    {
      "metadata": {
        "id": "QKXUXbJ_3SAT",
        "colab_type": "code",
        "outputId": "06432e31-04e7-449b-9ddb-f0740ce606bd",
        "colab": {}
      },
      "cell_type": "code",
      "source": [
        "import math\n",
        "print(math.pi)\n"
      ],
      "execution_count": 0,
      "outputs": [
        {
          "output_type": "stream",
          "text": [
            "3.141592653589793\n"
          ],
          "name": "stdout"
        }
      ]
    },
    {
      "metadata": {
        "id": "X83uJ1Qu3SBF",
        "colab_type": "code",
        "outputId": "8d67101c-1821-407b-a8ab-2bac54822510",
        "colab": {}
      },
      "cell_type": "code",
      "source": [
        "import datetime\n",
        "datetime.datetime.now()\n"
      ],
      "execution_count": 0,
      "outputs": [
        {
          "output_type": "execute_result",
          "data": {
            "text/plain": [
              "datetime.datetime(2017, 10, 18, 20, 47, 20, 606228)"
            ]
          },
          "metadata": {
            "tags": []
          },
          "execution_count": 6
        }
      ]
    },
    {
      "metadata": {
        "id": "eZvpwCfj3SB3",
        "colab_type": "text"
      },
      "cell_type": "markdown",
      "source": [
        "# import with renaming"
      ]
    },
    {
      "metadata": {
        "id": "3M6ut8bf3SB-",
        "colab_type": "code",
        "outputId": "0d0b3088-de69-4e23-a602-b6c35891609a",
        "colab": {}
      },
      "cell_type": "code",
      "source": [
        "import math as m\n",
        "print(m.pi)\n"
      ],
      "execution_count": 0,
      "outputs": [
        {
          "output_type": "stream",
          "text": [
            "3.141592653589793\n"
          ],
          "name": "stdout"
        }
      ]
    },
    {
      "metadata": {
        "id": "pT6vcsA53SDj",
        "colab_type": "text"
      },
      "cell_type": "markdown",
      "source": [
        "# from...import statement"
      ]
    },
    {
      "metadata": {
        "id": "EQnlLHDT3SDz",
        "colab_type": "text"
      },
      "cell_type": "markdown",
      "source": [
        "We can import specific names form a module without importing the module as a whole."
      ]
    },
    {
      "metadata": {
        "id": "7TIfvzlm3SED",
        "colab_type": "code",
        "outputId": "768ae231-3861-4736-f188-8a8be15d38b6",
        "colab": {}
      },
      "cell_type": "code",
      "source": [
        "from datetime import datetime \n",
        "datetime.now()\n"
      ],
      "execution_count": 0,
      "outputs": [
        {
          "output_type": "execute_result",
          "data": {
            "text/plain": [
              "datetime.datetime(2017, 10, 18, 20, 47, 38, 17242)"
            ]
          },
          "metadata": {
            "tags": []
          },
          "execution_count": 9
        }
      ]
    },
    {
      "metadata": {
        "id": "SADx3OaF3SEi",
        "colab_type": "text"
      },
      "cell_type": "markdown",
      "source": [
        "# import all names"
      ]
    },
    {
      "metadata": {
        "id": "XNLaSvv23SEo",
        "colab_type": "code",
        "outputId": "7a438dbe-89e4-4fd4-9b27-5b35c65a4a08",
        "colab": {}
      },
      "cell_type": "code",
      "source": [
        "from math import *\n",
        "print(\"Value of PI is \" + str(pi))\n"
      ],
      "execution_count": 0,
      "outputs": [
        {
          "output_type": "stream",
          "text": [
            "Value of PI is 3.141592653589793\n"
          ],
          "name": "stdout"
        }
      ]
    },
    {
      "metadata": {
        "id": "3H-myaPZ3SFA",
        "colab_type": "text"
      },
      "cell_type": "markdown",
      "source": [
        "# dir() built in function"
      ]
    },
    {
      "metadata": {
        "id": "ZjaqZW753SFO",
        "colab_type": "text"
      },
      "cell_type": "markdown",
      "source": [
        "We can use the dir() function to find out names that are defined inside a module."
      ]
    },
    {
      "metadata": {
        "id": "b65I5Llb3SFb",
        "colab_type": "code",
        "outputId": "0adc9a84-6803-4b58-c79f-2a6653efc1f6",
        "colab": {}
      },
      "cell_type": "code",
      "source": [
        "dir(example)\n"
      ],
      "execution_count": 0,
      "outputs": [
        {
          "output_type": "execute_result",
          "data": {
            "text/plain": [
              "['__builtins__',\n",
              " '__cached__',\n",
              " '__doc__',\n",
              " '__file__',\n",
              " '__loader__',\n",
              " '__name__',\n",
              " '__package__',\n",
              " '__spec__',\n",
              " 'add']"
            ]
          },
          "metadata": {
            "tags": []
          },
          "execution_count": 11
        }
      ]
    },
    {
      "metadata": {
        "id": "mC3R3ge-3SF7",
        "colab_type": "code",
        "outputId": "397f141b-c9c4-4e38-c0c5-f69a370865cd",
        "colab": {}
      },
      "cell_type": "code",
      "source": [
        "print(example.add.__doc__)\n"
      ],
      "execution_count": 0,
      "outputs": [
        {
          "output_type": "stream",
          "text": [
            "\n",
            "    This program adds two numbers and return the result\n",
            "    \n"
          ],
          "name": "stdout"
        }
      ]
    }
  ]
}